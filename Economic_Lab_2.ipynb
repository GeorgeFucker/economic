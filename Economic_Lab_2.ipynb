{
 "cells": [
  {
   "cell_type": "code",
   "execution_count": 2,
   "metadata": {
    "collapsed": true
   },
   "outputs": [],
   "source": [
    "import numpy as np"
   ]
  },
  {
   "cell_type": "markdown",
   "metadata": {},
   "source": [
    "#  1. Задаём условия задачи"
   ]
  },
  {
   "cell_type": "code",
   "execution_count": 3,
   "metadata": {
    "collapsed": true
   },
   "outputs": [],
   "source": [
    "# Вектор ожидаемых доходов ценных бумаг\n",
    "\n",
    "yield_of_securities = np.array([11, 15, 25])\n",
    "yield_of_securities =  yield_of_securities.reshape(yield_of_securities.shape[0], 1)\n",
    "\n",
    "# Матрица ковариации между ценными бумагами\n",
    "# Мы уменьшили размерность, так как одна из доль была отрицательна\n",
    "\n",
    "#cov_matr = np.mat([[300, 200, 210, 190],\n",
    "#                   [200, 400, 250, 330],\n",
    "#                   [210, 250, 500, 370],\n",
    "#                   [190, 330, 370, 800]])\n",
    "\n",
    "cov_matr = np.mat([[300, 200, 210],\n",
    "                   [200, 400, 250],\n",
    "                   [210, 250, 500]])\n",
    "\n",
    "# Параметр предпочтения между риском и доходностью\n",
    "\n",
    "preference = 10"
   ]
  },
  {
   "cell_type": "markdown",
   "metadata": {},
   "source": [
    "# 2. Решение уравнения, для нахождения необходимого неизвестного"
   ]
  },
  {
   "cell_type": "code",
   "execution_count": 4,
   "metadata": {
    "collapsed": true
   },
   "outputs": [],
   "source": [
    "C = np.hstack((2 * cov_matr, np.ones((3, 1))))\n",
    "C = np.vstack((C, np.array([1, 1, 1, 0])))\n",
    "\n",
    "# Доля ценных бумаг в портфеле\n",
    "\n",
    "share_of_securities = C.I[3, :-1].reshape(3, 1) + preference * (C.I[:-1, :-1] * yield_of_securities)"
   ]
  },
  {
   "cell_type": "markdown",
   "metadata": {},
   "source": [
    "# 3. Вычисление параметров"
   ]
  },
  {
   "cell_type": "code",
   "execution_count": 5,
   "metadata": {
    "collapsed": true
   },
   "outputs": [],
   "source": [
    "# Ожидаемая доходность портфеля\n",
    "\n",
    "expected_portfolio_return = np.float(np.dot(share_of_securities.reshape(1, 3), yield_of_securities / 100))\n",
    "\n",
    "# Стандартное отклонение ожидаемой доходности портфеля\n",
    "\n",
    "expected_portfolio_return_std = np.float(share_of_securities.reshape(1, 3) @ cov_matr @ share_of_securities)\n",
    "\n",
    "# Функция полезности инвестора \n",
    "\n",
    "utility_function = preference * expected_portfolio_return * 100 - expected_portfolio_return_std"
   ]
  },
  {
   "cell_type": "markdown",
   "metadata": {},
   "source": [
    "# 4. Проверки"
   ]
  },
  {
   "cell_type": "code",
   "execution_count": 6,
   "metadata": {},
   "outputs": [
    {
     "name": "stdout",
     "output_type": "stream",
     "text": [
      "Сумма по i a[i, j] = 0:\n",
      "\n",
      "a[0, 1] + a[0, 2] + a[0, 3] = 0.0021186440677966106 + -0.0012711864406779664 + -0.000847457627118644 = 1.0842021724855044e-19\n",
      "a[1, 1] + a[1, 2] + a[1, 3] = -0.0012711864406779664 + 0.0020127118644067796 + -0.0007415254237288136 = -4.336808689942018e-19\n",
      "a[2, 1] + a[2, 2] + a[2, 3] = -0.000847457627118644 + -0.0007415254237288136 + 0.0015889830508474577 = 0.0\n",
      "\n",
      "Сумма по j a[i, j] = 0:\n",
      "\n",
      "a[1, 0] + a[2, 0] + a[3, 0] = 0.0021186440677966106 + -0.0012711864406779664 + -0.000847457627118644 = 1.0842021724855044e-19\n",
      "a[1, 1] + a[2, 1] + a[3, 1] = -0.0012711864406779664 + 0.0020127118644067796 + -0.0007415254237288136 = -4.336808689942018e-19\n",
      "a[1, 2] + a[2, 2] + a[3, 2] = -0.000847457627118644 + -0.0007415254237288136 + 0.0015889830508474577 = 0.0\n",
      "\n",
      "Сумма по i c[i] = 1:\n",
      "\n",
      "c[1] + c[2] + c[3] = 0.5932203389830508 + 0.26906779661016955 + 0.1377118644067796 = 1.0\n",
      "\n",
      "Сумма долей ценных бумаг в портфеле:\n",
      "\n",
      "g[0] + g[1] + g[2] = 0.423728813559322 + 0.2457627118644068 + 0.3305084745762712 = 1.0\n"
     ]
    }
   ],
   "source": [
    "# Checks\n",
    "\n",
    "print('Сумма по i a[i, j] = 0:\\n')\n",
    "for i in range(3):\n",
    "    print('a[{0}, 1] + a[{0}, 2] + a[{0}, 3] = {1} + {2} + {3} = {4}'.format(i, C.I[i, 0], C.I[i, 1], C.I[i, 2], C.I[i, :-1].sum()))\n",
    "print() \n",
    "\n",
    "print('Сумма по j a[i, j] = 0:\\n')\n",
    "for i in range(3):\n",
    "    print('a[1, {0}] + a[2, {0}] + a[3, {0}] = {1} + {2} + {3} = {4}'.format(i, C.I[0, i], C.I[1, i], C.I[2, i], C.I[:-1, i].sum()))\n",
    "print()\n",
    "\n",
    "print('Сумма по i c[i] = 1:\\n')\n",
    "print('c[1] + c[2] + c[3] = {} + {} + {} = {}'.format(C.I[3, 0], C.I[3, 1], C.I[3, 2], C.I[3, :-1].sum()))\n",
    "print()\n",
    "\n",
    "print('Сумма долей ценных бумаг в портфеле:\\n')\n",
    "print('g[0] + g[1] + g[2] = {} + {} + {} = {}'.format(np.float(share_of_securities[0]), np.float(share_of_securities[1]), np.float(share_of_securities[2]), share_of_securities.sum()))"
   ]
  },
  {
   "cell_type": "markdown",
   "metadata": {},
   "source": [
    "# 5. Вывод парамметров"
   ]
  },
  {
   "cell_type": "code",
   "execution_count": 19,
   "metadata": {},
   "outputs": [
    {
     "name": "stdout",
     "output_type": "stream",
     "text": [
      "Доля ценных бумаг в портфеле:\n",
      " g[1] = 42.37%\n",
      " g[2] = 24.58%\n",
      " g[3] = 33.05%\n",
      "\n",
      "Ожидаемая доходность портфеля: 16.61%\n",
      "\n",
      "Стандартное отклонение ожидаемой доходности портфеля: 273.728813559322\n",
      "\n",
      "Функция полезности инвестора: -107.62711864406779\n",
      "\n"
     ]
    }
   ],
   "source": [
    "print('Доля ценных бумаг в портфеле:\\n g[1] = {:.2f}%\\n g[2] = {:.2f}%\\n g[3] = {:.2f}%\\n'.format(np.float(share_of_securities[0]) * 100, np.float(share_of_securities[1]) * 100, np.float(share_of_securities[2] * 100)))\n",
    "print('Ожидаемая доходность портфеля: {:.2f}%\\n'.format(expected_portfolio_return * 100))\n",
    "print('Стандартное отклонение ожидаемой доходности портфеля: {}\\n'.format(expected_portfolio_return_std))\n",
    "print('Функция полезности инвестора: {}\\n'.format(utility_function))"
   ]
  },
  {
   "cell_type": "code",
   "execution_count": null,
   "metadata": {
    "collapsed": true
   },
   "outputs": [],
   "source": []
  },
  {
   "cell_type": "code",
   "execution_count": null,
   "metadata": {
    "collapsed": true
   },
   "outputs": [],
   "source": []
  },
  {
   "cell_type": "code",
   "execution_count": null,
   "metadata": {
    "collapsed": true
   },
   "outputs": [],
   "source": []
  },
  {
   "cell_type": "code",
   "execution_count": null,
   "metadata": {
    "collapsed": true
   },
   "outputs": [],
   "source": []
  },
  {
   "cell_type": "code",
   "execution_count": null,
   "metadata": {
    "collapsed": true
   },
   "outputs": [],
   "source": []
  },
  {
   "cell_type": "code",
   "execution_count": null,
   "metadata": {
    "collapsed": true
   },
   "outputs": [],
   "source": []
  },
  {
   "cell_type": "code",
   "execution_count": null,
   "metadata": {
    "collapsed": true
   },
   "outputs": [],
   "source": []
  }
 ],
 "metadata": {
  "kernelspec": {
   "display_name": "Python 3",
   "language": "python",
   "name": "python3"
  },
  "language_info": {
   "codemirror_mode": {
    "name": "ipython",
    "version": 3
   },
   "file_extension": ".py",
   "mimetype": "text/x-python",
   "name": "python",
   "nbconvert_exporter": "python",
   "pygments_lexer": "ipython3",
   "version": "3.6.3"
  }
 },
 "nbformat": 4,
 "nbformat_minor": 2
}
